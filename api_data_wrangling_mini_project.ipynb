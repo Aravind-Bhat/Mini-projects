{
 "cells": [
  {
   "cell_type": "markdown",
   "metadata": {},
   "source": [
    "This exercise will require you to pull some data from the Qunadl API. Qaundl is currently the most widely used aggregator of financial market data."
   ]
  },
  {
   "cell_type": "markdown",
   "metadata": {},
   "source": [
    "As a first step, you will need to register a free account on the http://www.quandl.com website."
   ]
  },
  {
   "cell_type": "markdown",
   "metadata": {},
   "source": [
    "After you register, you will be provided with a unique API key, that you should store:"
   ]
  },
  {
   "cell_type": "code",
   "execution_count": 3,
   "metadata": {},
   "outputs": [],
   "source": [
    "# Store the API key as a string - according to PEP8, constants are always named in all upper case\n",
    "API_KEY = 'removed_as_directed'"
   ]
  },
  {
   "cell_type": "markdown",
   "metadata": {},
   "source": [
    "Qaundl has a large number of data sources, but, unfortunately, most of them require a Premium subscription. Still, there are also a good number of free datasets."
   ]
  },
  {
   "cell_type": "markdown",
   "metadata": {},
   "source": [
    "For this mini project, we will focus on equities data from the Frankfurt Stock Exhange (FSE), which is available for free. We'll try and analyze the stock prices of a company called Carl Zeiss Meditec, which manufactures tools for eye examinations, as well as medical lasers for laser eye surgery: https://www.zeiss.com/meditec/int/home.html. The company is listed under the stock ticker AFX_X."
   ]
  },
  {
   "cell_type": "markdown",
   "metadata": {},
   "source": [
    "You can find the detailed Quandl API instructions here: https://docs.quandl.com/docs/time-series"
   ]
  },
  {
   "cell_type": "markdown",
   "metadata": {},
   "source": [
    "While there is a dedicated Python package for connecting to the Quandl API, we would prefer that you use the *requests* package, which can be easily downloaded using *pip* or *conda*. You can find the documentation for the package here: http://docs.python-requests.org/en/master/ "
   ]
  },
  {
   "cell_type": "markdown",
   "metadata": {},
   "source": [
    "Finally, apart from the *requests* package, you are encouraged to not use any third party Python packages, such as *pandas*, and instead focus on what's available in the Python Standard Library (the *collections* module might come in handy: https://pymotw.com/3/collections/).\n",
    "Also, since you won't have access to DataFrames, you are encouraged to us Python's native data structures - preferably dictionaries, though some questions can also be answered using lists.\n",
    "You can read more on these data structures here: https://docs.python.org/3/tutorial/datastructures.html"
   ]
  },
  {
   "cell_type": "markdown",
   "metadata": {},
   "source": [
    "Keep in mind that the JSON responses you will be getting from the API map almost one-to-one to Python's dictionaries. Unfortunately, they can be very nested, so make sure you read up on indexing dictionaries in the documentation provided above."
   ]
  },
  {
   "cell_type": "code",
   "execution_count": 1,
   "metadata": {},
   "outputs": [],
   "source": [
    "# First, import the relevant modules\n",
    "import requests\n",
    "from operator import is_not\n",
    "from functools import partial\n",
    "import matplotlib.pyplot as plt\n",
    "from datetime import datetime\n",
    "import numpy as np\n"
   ]
  },
  {
   "cell_type": "code",
   "execution_count": 2,
   "metadata": {},
   "outputs": [
    {
     "name": "stdout",
     "output_type": "stream",
     "text": [
      "['Date', 'Open', 'High', 'Low', 'Close', 'Change', 'Traded Volume', 'Turnover', 'Last Price of the Day', 'Daily Traded Units', 'Daily Turnover']\n",
      "11\n",
      "['2019-02-28', None, 75.0, 73.8, 75.0, None, 106203.0, 7931125.0, None, None, None]\n"
     ]
    }
   ],
   "source": [
    "# Now, call the Quandl API and pull out a small sample of the data (only one day) to get a glimpse\n",
    "# into the JSON structure that will be returned\n",
    "r = requests.get('https://www.quandl.com/api/v3/datasets/FSE/AFX_X.json?api_key=removed_as_directed')\n",
    "list_des = r.json()['dataset']['column_names']\n",
    "data_list = r.json()['dataset']['data']\n",
    "print(list_des)\n",
    "print(len(list_des))\n",
    "# printing data for 1 day\n",
    "print(data_list[1])\n"
   ]
  },
  {
   "cell_type": "markdown",
   "metadata": {
    "collapsed": true
   },
   "source": [
    "#Inspect the JSON structure of the object you created, and take note of how nested it is,\n",
    "#as well as the overall structure\n",
    "\n",
    "The JSON object starts and ends with '{' and '}'. A number of string value pair are stored within them. Here the first object contains the string 'dataset'. The pairing value seperated by ':', nests another object with a number of string - value pairs. The string names and their corresponing values are explained here. The string names of the nested objects include (but not limited to) 'column_index', 'column_names', 'data', 'dataset_code', 'description', 'frequency', 'start_date', 'end_date', 'type' etc. The pairing values of those strings provide information about the dataset. For example, 'type' of the dataset is 'Time Series'; 'frequency' of it is 'daily'; value of 'column_names' string nests an array ([....]) of variable names (e.g., 'Date', 'open', 'Daily Turnover', etc.), which are actually the variable names of the 'data' string values.\n",
    "\n",
    "The main focus is on the 'data' string and its paired values. The value of 'data' contains a nested array ([[....], [......],....[....]]). Elements of the outermost array are arrays containing information from every single day. Elements of the innermost array are values corresponding to each 'column_name' variable for a single day."
   ]
  },
  {
   "cell_type": "markdown",
   "metadata": {},
   "source": [
    "These are your tasks for this mini project:\n",
    "\n",
    "1. Collect data from the Franfurt Stock Exchange, for the ticker AFX_X, for the whole year 2017 (keep in mind that the date format is YYYY-MM-DD).\n",
    "2. Convert the returned JSON object into a Python dictionary.\n",
    "3. Calculate what the highest and lowest opening prices were for the stock in this period.\n",
    "4. What was the largest change in any one day (based on High and Low price)?\n",
    "5. What was the largest change between any two days (based on Closing Price)?\n",
    "6. What was the average daily trading volume during this year?\n",
    "7. (Optional) What was the median trading volume during this year. (Note: you may need to implement your own function for calculating the median.)"
   ]
  },
  {
   "cell_type": "code",
   "execution_count": 5,
   "metadata": {},
   "outputs": [
    {
     "name": "stdout",
     "output_type": "stream",
     "text": [
      "<class 'dict'>\n",
      "['Date', 'Open', 'High', 'Low', 'Close', 'Change', 'Traded Volume', 'Turnover', 'Last Price of the Day', 'Daily Traded Units', 'Daily Turnover']\n",
      "11\n",
      "['2017-12-29', 51.76, 51.94, 51.45, 51.76, None, 34640.0, 1792304.0, None, None, None]\n"
     ]
    }
   ],
   "source": [
    "#1. Collect data from the Franfurt Stock Exchange, for the ticker AFX_X, for the whole year 2017. \n",
    "#https://www.quandl.com/api/v3/datasets/FSE/AFX_X.json?api_key=sxXNWWLb2nA9CoZH2hiM&start_date=2017-01-01&end_date=2017-12-31\n",
    "r = requests.get('https://www.quandl.com/api/v3/datasets/FSE/AFX_X.json?api_key=removed_as_directed&start_date=2017-01-01&end_date=2017-12-31')\n",
    "# 2. Convert the returned JSON object into a Python dictionary.\n",
    "data_dict = r.json()\n",
    "print(type(data_dict))\n",
    "# getting data variables\n",
    "list_des = r.json()['dataset']['column_names']\n",
    "# gettig finance data \n",
    "data_list_17 = r.json()['dataset']['data']\n",
    "print(list_des)\n",
    "print(len(list_des))\n",
    "# for one day\n",
    "print(data_list_17[0])"
   ]
  },
  {
   "cell_type": "code",
   "execution_count": 7,
   "metadata": {},
   "outputs": [
    {
     "name": "stdout",
     "output_type": "stream",
     "text": [
      "Highest opening price is: $ 53.11\n",
      "Lowest opening price is: $ 34.0\n"
     ]
    }
   ],
   "source": [
    "#3. Calculate what the highest and lowest opening prices were for the stock in this period.\n",
    "tran_data = [[row[i] for row in data_list_17] for i in range(len(list_des))]\n",
    "list_des.index('Open')\n",
    "#date = tran_data[0]\n",
    "open_price = tran_data[list_des.index('Open')]\n",
    "# removing none values\n",
    "filt_open_price = list(filter(None.__ne__, open_price))\n",
    "highest_open_price = max(filt_open_price)\n",
    "print('Highest opening price is: $', highest_open_price)\n",
    "lowest_open_price = min(filt_open_price)\n",
    "print('Lowest opening price is: $', lowest_open_price)\n"
   ]
  },
  {
   "cell_type": "code",
   "execution_count": 8,
   "metadata": {},
   "outputs": [
    {
     "name": "stdout",
     "output_type": "stream",
     "text": [
      "2017-12-14 00:00:00 2017-01-24 00:00:00\n"
     ]
    },
    {
     "data": {
      "image/png": "[encoded data removed]",
      "text/plain": [
       "<matplotlib.figure.Figure at 0x18d167e0d68>"
      ]
     },
     "metadata": {},
     "output_type": "display_data"
    }
   ],
   "source": [
    "# visual represeantation of Q3\n",
    "dates = tran_data[list_des.index('Date')]\n",
    "date_times = []\n",
    "for date in dates:\n",
    "    date_time = datetime.strptime(date, '%Y-%m-%d')\n",
    "    date_times.append(date_time)\n",
    "    \n",
    "highest_index = open_price.index(highest_open_price)\n",
    "lowest_index = open_price.index(lowest_open_price)\n",
    "highest_date = date_times[highest_index]\n",
    "lowest_date = date_times[lowest_index]\n",
    "print(highest_date, lowest_date)\n",
    "\n",
    "plt.plot(date_times, open_price, 'red')\n",
    "plt.ylim((30, 55))\n",
    "plt.xlabel('Date')\n",
    "plt.ylabel('Opening stock price ($)')\n",
    "plt.title('Time series of opening stock price')\n",
    "plt.annotate('Highest', xy=(highest_date, highest_open_price), arrowprops=dict(facecolor='black', shrink=0.05))\n",
    "plt.annotate('Lowest', xy=(lowest_date, lowest_open_price), arrowprops=dict(facecolor='black', shrink=0.05))\n",
    "plt.show()"
   ]
  },
  {
   "cell_type": "code",
   "execution_count": 9,
   "metadata": {},
   "outputs": [
    {
     "name": "stdout",
     "output_type": "stream",
     "text": [
      "The largest change between high and low price in one day: $ 2.81\n"
     ]
    },
    {
     "data": {
      "image/png": "[encoded data removed]",
      "text/plain": [
       "<matplotlib.figure.Figure at 0x18d1219ecf8>"
      ]
     },
     "metadata": {},
     "output_type": "display_data"
    }
   ],
   "source": [
    "#4. What was the largest change in any one day (based on High and Low price)?\n",
    "high_price = tran_data[list_des.index('High')]\n",
    "low_price = tran_data[list_des.index('Low')]\n",
    "change=[]\n",
    "for j in range(len(high_price)):\n",
    "    diff = abs(high_price[j] - low_price[j])\n",
    "    change.append(diff)\n",
    "largest_change = max(change)\n",
    "print('The largest change between high and low price in one day: $', round(largest_change, 2))\n",
    "\n",
    "max_index = change.index(largest_change)\n",
    "max_date = date_times[max_index]\n",
    "\n",
    "# plotting the change\n",
    "plt.plot(date_times, change, 'red')\n",
    "plt.ylim((0, 3))\n",
    "plt.xlabel('Date')\n",
    "plt.ylabel('Change in stock price ($)')\n",
    "plt.title('Time series of change in stock price')\n",
    "plt.annotate('Max change', xy=(max_date, largest_change), arrowprops=dict(facecolor='black', shrink=0.05))\n",
    "plt.show()\n"
   ]
  },
  {
   "cell_type": "code",
   "execution_count": 10,
   "metadata": {},
   "outputs": [
    {
     "name": "stdout",
     "output_type": "stream",
     "text": [
      "The largest change in closing price between any two consecutive days is: $ 2.56\n"
     ]
    }
   ],
   "source": [
    "#5. What was the largest change between any two days (based on Closing Price)?\n",
    "close_price = tran_data[list_des.index('Close')]\n",
    "change_day = []\n",
    "for n in range(len(close_price)-1):\n",
    "    diff_day = abs(close_price[n] - close_price[n+1])\n",
    "    change_day.append(diff_day)\n",
    "\n",
    "largest_change_day = max(change_day)\n",
    "print('The largest change in closing price between any two consecutive days is: $', round(largest_change_day, 2))"
   ]
  },
  {
   "cell_type": "code",
   "execution_count": 17,
   "metadata": {},
   "outputs": [
    {
     "name": "stdout",
     "output_type": "stream",
     "text": [
      "The average daily trading volume in 2017 is: $ 89124.34\n"
     ]
    }
   ],
   "source": [
    "#6. What was the average daily trading volume during this year?\n",
    "\n",
    "traded_volume = tran_data[list_des.index('Traded Volume')]\n",
    "traded_volume[:10]\n",
    "avg_vol = np.mean(traded_volume)\n",
    "print('The average daily trading volume in 2017 is: $', round(avg_vol, 2))\n"
   ]
  },
  {
   "cell_type": "code",
   "execution_count": 16,
   "metadata": {},
   "outputs": [
    {
     "name": "stdout",
     "output_type": "stream",
     "text": [
      "The median trading volume during this year is: $ 76286.0\n"
     ]
    }
   ],
   "source": [
    "#7. (Optional) What was the median trading volume during this year. \n",
    "#(Note: you may need to implement your own function for calculating the median.)\n",
    "len_vol = len(traded_volume)\n",
    "# although the list contains odd number of elements, so the first condition applies, both are included here for generalization\n",
    "if len_vol % 2 ==1:\n",
    "    vol_median = sorted(traded_volume)[len_vol//2]\n",
    "else:\n",
    "    vol_median = sum(sorted(traded_volume)[len_vol//2-1:len_vol//2+1])/2.0\n",
    "print('The median trading volume during this year is: $', round(vol_median, 2))\n"
   ]
  },
  {
   "cell_type": "code",
   "execution_count": null,
   "metadata": {},
   "outputs": [],
   "source": []
  }
 ],
 "metadata": {
  "kernelspec": {
   "display_name": "Python 3",
   "language": "python",
   "name": "python3"
  },
  "language_info": {
   "codemirror_mode": {
    "name": "ipython",
    "version": 3
   },
   "file_extension": ".py",
   "mimetype": "text/x-python",
   "name": "python",
   "nbconvert_exporter": "python",
   "pygments_lexer": "ipython3",
   "version": "3.6.4"
  }
 },
 "nbformat": 4,
 "nbformat_minor": 2
}
