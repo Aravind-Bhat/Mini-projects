{
 "cells": [
  {
   "cell_type": "markdown",
   "metadata": {},
   "source": [
    "# Castone project 1: predictive modeling \n",
    "\n",
    "The final step of the project is to employ an appropriate machine learning algorithm. We will use the linear regression and gradient boosting algorithm to train, and fit the model and predict solar enery for unseen dataset."
   ]
  },
  {
   "cell_type": "code",
   "execution_count": 1,
   "metadata": {},
   "outputs": [],
   "source": [
    "# importing necessary modules\n",
    "import pandas as pd\n",
    "import numpy as np\n",
    "from sklearn import ensemble\n",
    "from sklearn.linear_model import LinearRegression\n",
    "from sklearn.ensemble import RandomForestRegressor\n",
    "from sklearn.model_selection import train_test_split\n",
    "from sklearn.preprocessing import StandardScaler\n",
    "from sklearn.pipeline import Pipeline\n",
    "from sklearn.metrics import mean_squared_error\n",
    "import matplotlib.pyplot as plt\n",
    "import seaborn as sns"
   ]
  },
  {
   "cell_type": "code",
   "execution_count": 21,
   "metadata": {},
   "outputs": [],
   "source": [
    "# loading training data for station 'ACME'\n",
    "# radiative flux\n",
    "filepath = \"C:\\\\Users\\\\manas\\\\Desktop\\\\Springboard\\\\Capstone ideas\\\\Solar energy\\\\Data\\\\\"\n",
    "dswrfs = pd.read_csv(filepath + 'DSWRF\\\\dswrf_station.csv', header=None) # downward shortwave radiation\n",
    "dlwrfs = pd.read_csv(filepath + 'DLWRF\\\\dlwrf_station.csv', header=None) # downward longwave radiation\n",
    "uswrfs = pd.read_csv(filepath + 'USWRF_sfc\\\\uswrfs_station.csv', header=None) # upward shortwave radiation\n",
    "ulwrfs = pd.read_csv(filepath + 'ULWRF_sfc\\\\ulwrfs_station.csv', header=None) # upward longwave radiation\n",
    "ulwrf = pd.read_csv(filepath + 'ULWRF\\\\ulwrf_station.csv', header=None) # upward longwave radiation at TOA\n",
    "\n",
    "# temperature\n",
    "ts = pd.read_csv(filepath + 'Temp_sfc\\\\ts_station.csv', header=None) # Temperature\n",
    "t = pd.read_csv(filepath + 'Temp\\\\t_station.csv', header=None) # Temperature 2m above surface\n",
    "mint = pd.read_csv(filepath + 'Min_temp\\\\mint_station.csv', header=None) # minimum temperature\n",
    "maxt = pd.read_csv(filepath + 'Max_temp\\\\maxt_station.csv', header=None) ## maximum temperature\n",
    "\n",
    "# other weather variables\n",
    "tc = pd.read_csv(filepath + 'Total_condensate\\\\tc_station.csv', header=None) # total column-integrated condensate\n",
    "tcc = pd.read_csv(filepath + 'Total_cloud_cover\\\\tcc_station.csv', header=None) # total cloud cover over\n",
    "h = pd.read_csv(filepath + 'Sp_humidity\\\\h_station.csv', header=None) # specific humidity\n",
    "pw = pd.read_csv(filepath + 'Precip_water\\\\pw_station.csv', header=None) # precipitable water\n",
    "precip = pd.read_csv(filepath + 'Precipitation\\\\precip_station.csv', header=None) # 3-Hour accumulated precipitation\n",
    "pr = pd.read_csv(filepath + 'Pressure\\\\pr_station.csv', header=None) ## air pressure\n",
    "\n",
    "\n",
    "# loading traget dataset\n",
    "target = pd.read_csv(\"C:\\\\Users\\\\manas\\\\Desktop\\\\Springboard\\\\Capstone ideas\\\\Solar energy\\\\train.csv\")"
   ]
  },
  {
   "cell_type": "code",
   "execution_count": 7,
   "metadata": {},
   "outputs": [],
   "source": [
    "# prepareing the train dataset\n",
    "x = pd.concat([dswrfs, dlwrfs, uswrfs, ulwrfs, ulwrf, ts, t, mint, maxt, tc, tcc, h, pw, precip, pr], axis=1)\n",
    "x.columns = ['dswrfs', 'dlwrfs', 'uswrfs', 'ulwrfs', 'ulwrf', 'ts', 't', 'mint', 'maxt', 'tc', 'tcc', 'h', 'pw', 'precip', 'pr']\n",
    "#print(x.head())\n",
    "y0 = target['ACME']\n",
    "X = x.values\n",
    "y = y0.values"
   ]
  },
  {
   "cell_type": "markdown",
   "metadata": {},
   "source": [
    "## Correlation among variables"
   ]
  },
  {
   "cell_type": "code",
   "execution_count": 5,
   "metadata": {},
   "outputs": [
    {
     "name": "stdout",
     "output_type": "stream",
     "text": [
      "target    1.000000\n",
      "dswrfs    0.888460\n",
      "uswrfs    0.842907\n",
      "ulwrf     0.660281\n",
      "ts        0.644142\n",
      "ulwrfs    0.633244\n",
      "maxt      0.627825\n",
      "t         0.626520\n",
      "mint      0.579936\n",
      "h         0.431927\n",
      "dlwrfs    0.350515\n",
      "pw        0.254051\n",
      "pr       -0.226540\n",
      "precip   -0.308548\n",
      "tc       -0.487059\n",
      "tcc      -0.487473\n",
      "Name: target, dtype: float64\n"
     ]
    }
   ],
   "source": [
    "var_target = pd.concat([dswrfs, dlwrfs, uswrfs, ulwrfs, ulwrf,ts, t, mint, maxt, tc, tcc, h, pw, precip, pr, y0], axis=1)\n",
    "var_target.columns = ['dswrfs', 'dlwrfs', 'uswrfs', 'ulwrfs', 'ulwrf', 'ts', 't', 'mint', 'maxt', 'tc', 'tcc', 'h', 'pw', 'precip', 'pr', 'target']\n",
    "target_corr = var_target.corr().target\n",
    "target_corr_sort = target_corr.sort_values(ascending=False)\n",
    "print(target_corr_sort)"
   ]
  },
  {
   "cell_type": "markdown",
   "metadata": {},
   "source": [
    "We observe that the correlation of all the variables are not strongly correlated with target (solar energy). We can reduce the dimension of the training features based on this."
   ]
  },
  {
   "cell_type": "code",
   "execution_count": 8,
   "metadata": {},
   "outputs": [],
   "source": [
    "# preparing target dataset\n",
    "\n",
    "filepath1 = \"C:\\\\Users\\\\manas\\\\Desktop\\\\Springboard\\\\Capstone ideas\\\\Solar energy\\\\Test\\\\\"\n",
    "\n",
    "dswrfs = pd.read_csv(filepath1 + 'DSWRF\\\\dswrf_station.csv', header=None)# downward shortwave radiation \n",
    "dlwrfs = pd.read_csv(filepath1 + 'DLWRF\\\\dlwrf_station.csv', header=None)# downward longwave radiation \n",
    "uswrfs = pd.read_csv(filepath1 + 'USWRF_sfc\\\\uswrfs_station.csv', header=None)# upward shortwave radiation \n",
    "ulwrfs = pd.read_csv(filepath1 + 'ULWRF_sfc\\\\ulwrfs_station.csv', header=None)# upward longwave radiation \n",
    "ulwrf = pd.read_csv(filepath1 + 'ULWRF\\\\ulwrf_station.csv', header=None)# upward longwave radiation at TOA\n",
    "\n",
    "# Temperature \n",
    "ts = pd.read_csv(filepath1 + 'Temp_sfc\\\\ts_station.csv', header=None) #temperature\n",
    "t = pd.read_csv(filepath1 + 'Temp\\\\t_station.csv', header=None) # Temperature 2m above surface\n",
    "mint = pd.read_csv(filepath1 + 'Min_temp\\\\mint_station.csv', header=None)# minimum temperature \n",
    "maxt = pd.read_csv(filepath1 + 'Max_temp\\\\maxt_station.csv', header=None)# maximum temperature \n",
    "\n",
    "#Other weather variables\n",
    "tc = pd.read_csv(filepath1 + 'Total_condensate\\\\tc_station.csv', header=None)# total column-integrated condensate \n",
    "tcc = pd.read_csv(filepath1 + 'Total_cloud_cover\\\\tcc_station.csv', header=None)# total cloud cover\n",
    "h = pd.read_csv(filepath1 + 'Sp_humidity\\\\h_station.csv', header=None)# specific humidity\n",
    "pw = pd.read_csv(filepath1 + 'Precip_water\\\\pw_station.csv', header=None)# precipitable water\n",
    "precip = pd.read_csv(filepath1 + 'Precipitation\\\\p_station.csv', header=None)# 3-Hour accumulated precipitation\n",
    "pr = pd.read_csv(filepath1 + 'Pressure\\\\pr_station.csv', header=None)# air pressure \n",
    "\n",
    "xt = pd.concat([dswrfs, dlwrfs, uswrfs, ulwrfs, ulwrf, ts, t, mint, maxt, tc, tcc, h, pw, precip, pr], axis=1)\n",
    "X_target = xt.values"
   ]
  },
  {
   "cell_type": "markdown",
   "metadata": {},
   "source": [
    "## Linear regression model"
   ]
  },
  {
   "cell_type": "code",
   "execution_count": 18,
   "metadata": {},
   "outputs": [
    {
     "name": "stdout",
     "output_type": "stream",
     "text": [
      "R^2: 0.8273110944532512\n",
      "Root Mean Squared Error: 0.19124220227512276\n"
     ]
    }
   ],
   "source": [
    "# linear regression on all features using test train split\n",
    "X_train, X_test, y_train, y_test = train_test_split(X, y, test_size = 0.3, random_state=42)\n",
    "reg_all = LinearRegression()\n",
    "reg_all.fit(X_train, y_train)\n",
    "y_pred = reg_all.predict(X_test)\n",
    "print(\"R^2: {}\".format(reg_all.score(X_test, y_test)))\n",
    "rmse = np.sqrt(mean_squared_error(y_test, y_pred))/np.mean(y_test)\n",
    "print(\"Root Mean Squared Error: {}\".format(rmse))"
   ]
  },
  {
   "cell_type": "code",
   "execution_count": 9,
   "metadata": {},
   "outputs": [
    {
     "name": "stdout",
     "output_type": "stream",
     "text": [
      "Root Mean Squared Error: 0.19124220227513045\n"
     ]
    }
   ],
   "source": [
    "# linear regression after scaled input dataset and pipeline\n",
    "X_train, X_test, y_train, y_test = train_test_split(X, y, test_size = 0.3, random_state=42)\n",
    "steps = [('scaler', StandardScaler()),\n",
    "         ('linreg', LinearRegression())]\n",
    "# Create the pipeline: pipeline\n",
    "pipeline = Pipeline(steps)\n",
    "\n",
    "# Create a linear regression object: reg\n",
    "reg = LinearRegression()\n",
    "fitted = pipeline.fit(X_train, y_train)\n",
    "y_fit_trn_lr = pipeline.predict(X_train)\n",
    "y_pred_tst = pipeline.predict(X_test)\n",
    "\n",
    "# metrics\n",
    "rmse_lr = np.sqrt(mean_squared_error(y_test, y_pred_tst))/np.mean(y_test)\n",
    "print(\"Root Mean Squared Error: {}\".format(rmse_lr))\n",
    "\n",
    "# residual distribution for the whole training set\n",
    "y_fitted_lr = pipeline.predict(X)\n",
    "residual_lr = y_fitted_lr - y\n",
    "\n",
    "# prediction on unseen dataset: 2008 - 2012\n",
    "y_target_lr = pipeline.predict(X_target)"
   ]
  },
  {
   "cell_type": "markdown",
   "metadata": {},
   "source": [
    "## Gradient boosting model"
   ]
  },
  {
   "cell_type": "code",
   "execution_count": 18,
   "metadata": {},
   "outputs": [
    {
     "data": {
      "image/png": "[encoded data removed]",
      "text/plain": [
       "<matplotlib.figure.Figure at 0x21bf9fa15f8>"
      ]
     },
     "metadata": {},
     "output_type": "display_data"
    },
    {
     "name": "stdout",
     "output_type": "stream",
     "text": [
      "maximum r_sq: 0.8286322854058313\n"
     ]
    }
   ],
   "source": [
    "## Gradient Boosting: Hyperparameter  tuning \n",
    "\n",
    "n_space = np.arange(4,12,1)\n",
    "depth_space = np.arange(1,7,1)\n",
    "#learning_space = np.arange(0.1,1,0.2)\n",
    "r_sq = []\n",
    "for n in n_space:\n",
    "    for depth in depth_space:\n",
    "        #for learning in with optimum learning rate 0.4:\n",
    "        params = {'n_estimators': n, 'max_depth': depth, 'learning_rate': 0.4, 'criterion': 'mse'}\n",
    "        gradient_boosting_regressor = ensemble.GradientBoostingRegressor(**params)\n",
    "        X_train, X_test, y_train, y_test = train_test_split(X, y, test_size = 0.3, random_state=42)\n",
    "        gradient_boosting_regressor.fit(X_train, y_train)\n",
    "        fitted = gradient_boosting_regressor.predict(X_train)\n",
    "        residual = fitted - y_train\n",
    "        r_sq.append(gradient_boosting_regressor.score(X_test, y_test)) \n",
    "        #print(\"R^2: {}\".format(gradient_boosting_regressor.score(X_test, y_test)))\n",
    "        rmse = np.sqrt(mean_squared_error(y_test, y_pred))\n",
    "        #print('depth, estimator, r^2', depth, n, gradient_boosting_regressor.score(X_test, y_test))\n",
    "#print(\"R^2:\", r_sq)\n",
    "xi = np.arange(1, len(r_sq)+1)\n",
    "plt.plot(xi, r_sq, marker='o')\n",
    "plt.xlabel('estimater and depth cycle')\n",
    "plt.ylabel('r square')\n",
    "plt.show()\n",
    "print('maximum r_sq:', max(r_sq))"
   ]
  },
  {
   "cell_type": "code",
   "execution_count": 14,
   "metadata": {},
   "outputs": [
    {
     "name": "stdout",
     "output_type": "stream",
     "text": [
      "Root Mean Squared Error: 0.19412658873624036\n"
     ]
    }
   ],
   "source": [
    "# gradient boosting with optimum parameters\n",
    "X_train, X_test, y_train, y_test = train_test_split(X, y, test_size = 0.3, random_state=42)\n",
    "params = {\n",
    "    'n_estimators': 10,\n",
    "    'max_depth': 5,\n",
    "    'learning_rate': 0.4,\n",
    "    'criterion': 'mse'\n",
    "}\n",
    "\n",
    "steps = [('scaler', StandardScaler()),\n",
    "         ('GBreg', ensemble.GradientBoostingRegressor(**params))]\n",
    "# Create the pipeline: pipeline\n",
    "pipeline = Pipeline(steps)\n",
    "\n",
    "# Create a regression object:\n",
    "gradient_boosting_regressor = ensemble.GradientBoostingRegressor(**params)\n",
    "\n",
    "fitted = pipeline.fit(X_train, y_train)\n",
    "y_fitted = pipeline.predict(X_train)\n",
    "y_pred = pipeline.predict(X_test)\n",
    "\n",
    "# metrics\n",
    "rmse_gb = np.sqrt(mean_squared_error(y_test, y_pred))/np.mean(y_test)\n",
    "print(\"Root Mean Squared Error: {}\".format(rmse_gb))\n",
    "\n",
    "# residual distribution for the whole training set\n",
    "y_fitted_gb = pipeline.predict(X)\n",
    "residual_gb = y_fitted_gb - y\n",
    "\n",
    "# prediction on unseen dataset: 2008 - 2012\n",
    "y_target_gb = pipeline.predict(X_target)"
   ]
  },
  {
   "cell_type": "markdown",
   "metadata": {},
   "source": [
    "## Random Forest"
   ]
  },
  {
   "cell_type": "code",
   "execution_count": 12,
   "metadata": {},
   "outputs": [
    {
     "name": "stdout",
     "output_type": "stream",
     "text": [
      "Root Mean Squared Error: 0.18970055370343647\n"
     ]
    }
   ],
   "source": [
    "# random forst\n",
    "params = {'n_estimators': 1500, 'criterion': 'mse'}\n",
    "X_train, X_test, y_train, y_test = train_test_split(X, y, test_size = 0.3, random_state=42)\n",
    "steps = [('scaler', StandardScaler()), ('rf', ensemble.RandomForestRegressor(**params))]\n",
    "# Create the pipeline: pipeline\n",
    "pipeline = Pipeline(steps)\n",
    "\n",
    "\n",
    "# Create a regression object:\n",
    "rf = RandomForestRegressor(n_estimators = 1500, random_state = 42)\n",
    "\n",
    "fitted = pipeline.fit(X_train, y_train)\n",
    "y_fitted = pipeline.predict(X_train)\n",
    "y_pred = pipeline.predict(X_test)\n",
    "\n",
    "# metrics\n",
    "rmse_rf = np.sqrt(mean_squared_error(y_test, y_pred))/np.mean(y_test)\n",
    "print(\"Root Mean Squared Error: {}\".format(rmse_rf))\n",
    "\n",
    "# residual distribution for the whole training set\n",
    "y_fitted_rf = pipeline.predict(X)\n",
    "residual_rf = y_fitted_rf - y\n",
    "\n",
    "# prediction on unseen dataset 2008 - 2012\n",
    "y_target_rf = pipeline.predict(X_target)"
   ]
  },
  {
   "cell_type": "markdown",
   "metadata": {},
   "source": [
    "## Compare linear regresison and gradient boosting using all features"
   ]
  },
  {
   "cell_type": "code",
   "execution_count": 17,
   "metadata": {},
   "outputs": [
    {
     "name": "stdout",
     "output_type": "stream",
     "text": [
      "Normalized root mean square error:\n",
      "linear regression: 0.19124220227513045\n",
      "gradient boosting: 0.19412658873624036\n",
      "random forest: 0.18970055370343647\n"
     ]
    }
   ],
   "source": [
    "print('Normalized root mean square error:')\n",
    "print('linear regression:', rmse_lr) \n",
    "print('gradient boosting:', rmse_gb) \n",
    "print('random forest:', rmse_rf)"
   ]
  },
  {
   "cell_type": "code",
   "execution_count": 32,
   "metadata": {},
   "outputs": [
    {
     "data": {
      "image/png": "[encoded data removed]",
      "text/plain": [
       "<matplotlib.figure.Figure at 0x235c6d050f0>"
      ]
     },
     "metadata": {},
     "output_type": "display_data"
    }
   ],
   "source": [
    "# residual distribution for the whole training set\n",
    "fig, ax = plt.subplots()\n",
    "\n",
    "ax.hist(residual_lr, bins=200, color=\"orange\", label='LR', histtype='step')\n",
    "ax.hist(residual_gb, bins=200, color=\"gray\", label='GB', histtype='step')\n",
    "ax.hist(residual_rf, bins=200, color=\"blue\", label='RF', histtype='step')\n",
    "ax.set_xlabel('Residual')\n",
    "ax.set_ylabel('frequency')\n",
    "ax.legend(loc='upper right')\n",
    "ax.grid(True)\n",
    "plt.rcParams[\"figure.figsize\"] = [8,4]\n",
    "\n",
    "plt.show()\n"
   ]
  },
  {
   "cell_type": "markdown",
   "metadata": {},
   "source": [
    "In case of random forest residuals are more closely distributed to 0. This is an improvement. "
   ]
  },
  {
   "cell_type": "markdown",
   "metadata": {},
   "source": [
    "## Can we reduce the dimension effectively?"
   ]
  },
  {
   "cell_type": "markdown",
   "metadata": {},
   "source": [
    "We observed that the radiative fluxes are strongly related to the the solar energy, so we will first use them as training features and examine how the RMSE is affected."
   ]
  },
  {
   "cell_type": "code",
   "execution_count": 22,
   "metadata": {},
   "outputs": [
    {
     "name": "stdout",
     "output_type": "stream",
     "text": [
      "Root Mean Squared Error: 0.20067078090850315\n"
     ]
    }
   ],
   "source": [
    "# working with less number of variables\n",
    "# prepareing the train dataset\n",
    "# linear regression after scaled input dataset and pipeline\n",
    "x = pd.concat([dswrfs, dlwrfs, uswrfs, ulwrfs, ulwrf], axis=1)\n",
    "X = x.values\n",
    "y0 = target['ACME']\n",
    "y = y0.values\n",
    "\n",
    "X_train, X_test, y_train, y_test = train_test_split(X, y, test_size = 0.3, random_state=42)\n",
    "steps = [('scaler', StandardScaler()),\n",
    "         ('linreg', LinearRegression())]\n",
    "# Create the pipeline: pipeline\n",
    "pipeline = Pipeline(steps)\n",
    "\n",
    "# Create a linear regression object: reg\n",
    "reg = LinearRegression()\n",
    "fitted = pipeline.fit(X_train, y_train)\n",
    "y_fit_trn_lr = pipeline.predict(X_train)\n",
    "y_pred_tst_lr = pipeline.predict(X_test)\n",
    "\n",
    "# metrics\n",
    "rmse_lr = np.sqrt(mean_squared_error(y_test, y_pred_tst_lr))/np.mean(y_test)\n",
    "print(\"Root Mean Squared Error: {}\".format(rmse_lr))\n",
    "\n",
    "# residual distribution for the whole training set\n",
    "y_fitted_lr = pipeline.predict(X)\n",
    "residual_lr = y_fitted_lr - y"
   ]
  },
  {
   "cell_type": "code",
   "execution_count": 23,
   "metadata": {},
   "outputs": [
    {
     "name": "stdout",
     "output_type": "stream",
     "text": [
      "Root Mean Squared Error: 0.19412658873624036\n"
     ]
    }
   ],
   "source": [
    "# gradient boosting with optimum parameters\n",
    "x = pd.concat([dswrfs, dlwrfs, uswrfs, ulwrfs, ulwrf], axis=1)\n",
    "X = x.values\n",
    "y0 = target['ACME']\n",
    "y = y0.values\n",
    "\n",
    "X_train, X_test, y_train, y_test = train_test_split(X, y, test_size = 0.3, random_state=42)\n",
    "steps = [('scaler', StandardScaler()),\n",
    "         ('GBreg', ensemble.GradientBoostingRegressor(**params))]\n",
    "# Create the pipeline: pipeline\n",
    "pipeline = Pipeline(steps)\n",
    "\n",
    "params = {\n",
    "    'n_estimators': 10,\n",
    "    'max_depth': 5,\n",
    "    'learning_rate': 0.4,\n",
    "    'criterion': 'mse'\n",
    "}\n",
    "# Create a regression object:\n",
    "gradient_boosting_regressor = ensemble.GradientBoostingRegressor(**params)\n",
    "\n",
    "fitted = pipeline.fit(X_train, y_train)\n",
    "y_fit_trn_gb = pipeline.predict(X_train)\n",
    "y_pred_tst_gb = pipeline.predict(X_test)\n",
    "\n",
    "# metrics\n",
    "rmse_gb = np.sqrt(mean_squared_error(y_test, y_pred))/np.mean(y_test)\n",
    "print(\"Root Mean Squared Error: {}\".format(rmse_gb))\n",
    "\n",
    "# residual distribution for the whole training set\n",
    "y_fitted_gb = pipeline.predict(X)\n",
    "residual_gb = y_fitted_gb - y"
   ]
  },
  {
   "cell_type": "code",
   "execution_count": 25,
   "metadata": {},
   "outputs": [
    {
     "name": "stdout",
     "output_type": "stream",
     "text": [
      "Root Mean Squared Error: 0.20137459847341602\n"
     ]
    }
   ],
   "source": [
    "# random forst\n",
    "x = pd.concat([dswrfs, dlwrfs, uswrfs, ulwrfs, ulwrf], axis=1)\n",
    "X = x.values\n",
    "y0 = target['ACME']\n",
    "y = y0.values\n",
    "\n",
    "params = {'n_estimators': 1500, 'criterion': 'mse'}\n",
    "X_train, X_test, y_train, y_test = train_test_split(X, y, test_size = 0.3, random_state=42)\n",
    "steps = [('scaler', StandardScaler()), ('rf', ensemble.RandomForestRegressor(**params))]\n",
    "# Create the pipeline: pipeline\n",
    "pipeline = Pipeline(steps)\n",
    "\n",
    "\n",
    "# Create a regression object:\n",
    "rf = RandomForestRegressor(n_estimators = 1500, random_state = 42)\n",
    "\n",
    "fitted = pipeline.fit(X_train, y_train)\n",
    "y_fitted = pipeline.predict(X_train)\n",
    "y_pred = pipeline.predict(X_test)\n",
    "\n",
    "# metrics\n",
    "rmse_rf = np.sqrt(mean_squared_error(y_test, y_pred))/np.mean(y_test)\n",
    "print(\"Root Mean Squared Error: {}\".format(rmse_rf))\n",
    "\n",
    "# residual distribution for the whole training set\n",
    "y_fitted_rf = pipeline.predict(X)\n",
    "residual_rf = y_fitted_rf - y"
   ]
  },
  {
   "cell_type": "markdown",
   "metadata": {},
   "source": [
    "## Compare LR and GB using reduced features"
   ]
  },
  {
   "cell_type": "code",
   "execution_count": 26,
   "metadata": {},
   "outputs": [
    {
     "name": "stdout",
     "output_type": "stream",
     "text": [
      "Root mean square error:\n",
      "Using linear regression: 0.20067078090850315\n",
      "Using gradient boosting: 0.19412658873624036\n",
      "Using random forest: 0.20137459847341602\n"
     ]
    }
   ],
   "source": [
    "print('Root mean square error:')\n",
    "print('Using linear regression:', rmse_lr)\n",
    "print('Using gradient boosting:', rmse_gb)\n",
    "print('Using random forest:', rmse_rf)"
   ]
  },
  {
   "cell_type": "code",
   "execution_count": 27,
   "metadata": {},
   "outputs": [
    {
     "data": {
      "image/png": "[encoded data removed]",
      "text/plain": [
       "<matplotlib.figure.Figure at 0x21bfa426550>"
      ]
     },
     "metadata": {},
     "output_type": "display_data"
    }
   ],
   "source": [
    "fig, ax = plt.subplots()\n",
    "ax.hist(residual_lr, bins=100, color=\"orange\", label='LR', histtype='step')\n",
    "ax.hist(residual_gb, bins=100, color=\"gray\", label='GB', histtype='step')\n",
    "ax.hist(residual_rf, bins=100, color=\"blue\", label='RF', histtype='step')\n",
    "ax.set_xlabel('Residual')\n",
    "ax.set_ylabel('frequency')\n",
    "ax.legend(loc='upper right')\n",
    "ax.grid(True)\n",
    "fig.tight_layout()\n",
    "plt.rcParams[\"figure.figsize\"] = [6,4]\n",
    "plt.show()\n"
   ]
  },
  {
   "cell_type": "markdown",
   "metadata": {},
   "source": [
    "## Discussion\n",
    "The model works effectively using only the radiative flux data. So we can essentially use only those features for solar energy prediction. "
   ]
  },
  {
   "cell_type": "code",
   "execution_count": null,
   "metadata": {},
   "outputs": [],
   "source": []
  }
 ],
 "metadata": {
  "kernelspec": {
   "display_name": "Python 3",
   "language": "python",
   "name": "python3"
  },
  "language_info": {
   "codemirror_mode": {
    "name": "ipython",
    "version": 3
   },
   "file_extension": ".py",
   "mimetype": "text/x-python",
   "name": "python",
   "nbconvert_exporter": "python",
   "pygments_lexer": "ipython3",
   "version": "3.6.4"
  }
 },
 "nbformat": 4,
 "nbformat_minor": 2
}
